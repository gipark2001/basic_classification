{
  "nbformat": 4,
  "nbformat_minor": 0,
  "metadata": {
    "colab": {
      "name": "cnn.ipynb",
      "version": "0.3.2",
      "provenance": [],
      "collapsed_sections": [
        "Tce3stUlHN0L"
      ],
      "toc_visible": true,
      "include_colab_link": true
    },
    "kernelspec": {
      "name": "python3",
      "display_name": "Python 3"
    },
    "accelerator": "GPU"
  },
  "cells": [
    {
      "cell_type": "markdown",
      "metadata": {
        "id": "view-in-github",
        "colab_type": "text"
      },
      "source": [
        "<a href=\"https://colab.research.google.com/github/gipark2001/tensorflow/blob/master/cnn.ipynb\" target=\"_parent\"><img src=\"https://colab.research.google.com/assets/colab-badge.svg\" alt=\"Open In Colab\"/></a>"
      ]
    },
    {
      "cell_type": "code",
      "metadata": {
        "id": "YWx3s1h1EF80",
        "colab_type": "code",
        "outputId": "3304ce0d-26b4-488d-ac23-968b98abad12",
        "colab": {
          "base_uri": "https://localhost:8080/",
          "height": 56
        }
      },
      "source": [
        "from google.colab import drive\n",
        "drive.mount('/content/gdrive')"
      ],
      "execution_count": 0,
      "outputs": [
        {
          "output_type": "stream",
          "text": [
            "Drive already mounted at /content/gdrive; to attempt to forcibly remount, call drive.mount(\"/content/gdrive\", force_remount=True).\n"
          ],
          "name": "stdout"
        }
      ]
    },
    {
      "cell_type": "code",
      "metadata": {
        "id": "xZEojnBbEPEa",
        "colab_type": "code",
        "outputId": "4057bf96-108f-40de-a11b-29944c276e18",
        "colab": {
          "base_uri": "https://localhost:8080/",
          "height": 36
        }
      },
      "source": [
        "pwd"
      ],
      "execution_count": 10,
      "outputs": [
        {
          "output_type": "execute_result",
          "data": {
            "text/plain": [
              "'/content/gdrive/My Drive/Colab Notebooks/TensorFlow'"
            ]
          },
          "metadata": {
            "tags": []
          },
          "execution_count": 10
        }
      ]
    },
    {
      "cell_type": "markdown",
      "metadata": {
        "colab_type": "text",
        "id": "Tce3stUlHN0L"
      },
      "source": [
        "##### Copyright 2018 The TensorFlow Authors.\n",
        "\n"
      ]
    },
    {
      "cell_type": "code",
      "metadata": {
        "colab_type": "code",
        "id": "tuOe1ymfHZPu",
        "colab": {}
      },
      "source": [
        "#@title Licensed under the Apache License, Version 2.0 (the \"License\");\n",
        "# you may not use this file except in compliance with the License.\n",
        "# You may obtain a copy of the License at\n",
        "#\n",
        "# https://www.apache.org/licenses/LICENSE-2.0\n",
        "#\n",
        "# Unless required by applicable law or agreed to in writing, software\n",
        "# distributed under the License is distributed on an \"AS IS\" BASIS,\n",
        "# WITHOUT WARRANTIES OR CONDITIONS OF ANY KIND, either express or implied.\n",
        "# See the License for the specific language governing permissions and\n",
        "# limitations under the License."
      ],
      "execution_count": 0,
      "outputs": []
    },
    {
      "cell_type": "markdown",
      "metadata": {
        "colab_type": "text",
        "id": "MfBg1C5NB3X0"
      },
      "source": [
        "# Build a Convolutional Neural Network using Estimators\n",
        "\n",
        "<table class=\"tfo-notebook-buttons\" align=\"left\">\n",
        "  <td>\n",
        "    <a target=\"_blank\" href=\"https://www.tensorflow.org/tutorials/estimators/cnn\"><img src=\"https://www.tensorflow.org/images/tf_logo_32px.png\" />View on TensorFlow.org</a>\n",
        "  </td>\n",
        "  <td>\n",
        "    <a target=\"_blank\" href=\"https://colab.research.google.com/github/tensorflow/docs/blob/master/site/en/tutorials/estimators/cnn.ipynb\"><img src=\"https://www.tensorflow.org/images/colab_logo_32px.png\" />Run in Google Colab</a>\n",
        "  </td>\n",
        "  <td>\n",
        "    <a target=\"_blank\" href=\"https://github.com/tensorflow/docs/blob/master/site/en/tutorials/estimators/cnn.ipynb\"><img src=\"https://www.tensorflow.org/images/GitHub-Mark-32px.png\" />View source on GitHub</a>\n",
        "  </td>\n",
        "</table>"
      ]
    },
    {
      "cell_type": "markdown",
      "metadata": {
        "colab_type": "text",
        "id": "xHxb-dlhMIzW"
      },
      "source": [
        "The `tf.layers` module provides a high-level API that makes\n",
        "it easy to construct a neural network. It provides methods that facilitate the\n",
        "creation of dense (fully connected) layers and convolutional layers, adding\n",
        "activation functions, and applying dropout regularization. In this tutorial,\n",
        "you'll learn how to use `layers` to build a convolutional neural network model\n",
        "to recognize the handwritten digits in the MNIST data set.\n",
        "\n",
        "![handwritten digits 0–9 from the MNIST data set](https://www.tensorflow.org/images/mnist_0-9.png)\n",
        "\n",
        "The [MNIST dataset](http://yann.lecun.com/exdb/mnist/) comprises 60,000\n",
        "training examples and 10,000 test examples of the handwritten digits 0–9,\n",
        "formatted as 28x28-pixel monochrome images."
      ]
    },
    {
      "cell_type": "markdown",
      "metadata": {
        "id": "wTe-6uXpP2Ts",
        "colab_type": "text"
      },
      "source": [
        "## Get Started\n",
        "\n",
        "Let's set up the imports for our TensorFlow program:"
      ]
    },
    {
      "cell_type": "code",
      "metadata": {
        "id": "6-tpguHLP6Rm",
        "colab_type": "code",
        "colab": {}
      },
      "source": [
        "from __future__ import absolute_import, division, print_function, unicode_literals\n",
        "\n",
        "import tensorflow as tf\n",
        "import numpy as np\n",
        "\n",
        "tf.logging.set_verbosity(tf.logging.INFO)"
      ],
      "execution_count": 0,
      "outputs": []
    },
    {
      "cell_type": "markdown",
      "metadata": {
        "id": "bUxWLCdTQexM",
        "colab_type": "text"
      },
      "source": [
        "As you work through the tutorial, you'll add code to construct, train, and\n",
        "evaluate the convolutional neural network. The complete, final code can be\n",
        "[found here](https://www.tensorflow.org/code/tensorflow/examples/tutorials/layers/cnn_mnist.py)."
      ]
    },
    {
      "cell_type": "markdown",
      "metadata": {
        "id": "4j5yyyDFQgSB",
        "colab_type": "text"
      },
      "source": [
        "## Intro to Convolutional Neural Networks\n",
        "\n",
        "Convolutional neural networks (CNNs) are the current state-of-the-art model\n",
        "architecture for image classification tasks. CNNs apply a series of filters to\n",
        "the raw pixel data of an image to extract and learn higher-level features, which\n",
        "the model can then use for classification. CNNs contains three components:\n",
        "\n",
        "*   **Convolutional layers**, which apply a specified number of convolution\n",
        "    filters to the image. For each subregion, the layer performs a set of\n",
        "    mathematical operations to produce a single value in the output feature map.\n",
        "    Convolutional layers then typically apply a\n",
        "    [ReLU activation function](https://en.wikipedia.org/wiki/Rectifier_\\(neural_networks\\)) to\n",
        "    the output to introduce nonlinearities into the model.\n",
        "\n",
        "*   **Pooling layers**, which\n",
        "    [downsample the image data](https://en.wikipedia.org/wiki/Convolutional_neural_network#Pooling_layer)\n",
        "    extracted by the convolutional layers to reduce the dimensionality of the\n",
        "    feature map in order to decrease processing time. A commonly used pooling\n",
        "    algorithm is max pooling, which extracts subregions of the feature map\n",
        "    (e.g., 2x2-pixel tiles), keeps their maximum value, and discards all other\n",
        "    values.\n",
        "\n",
        "*   **Dense (fully connected) layers**, which perform classification on the\n",
        "    features extracted by the convolutional layers and downsampled by the\n",
        "    pooling layers. In a dense layer, every node in the layer is connected to\n",
        "    every node in the preceding layer.\n",
        "\n",
        "Typically, a CNN is composed of a stack of convolutional modules that perform\n",
        "feature extraction. Each module consists of a convolutional layer followed by a\n",
        "pooling layer. The last convolutional module is followed by one or more dense\n",
        "layers that perform classification. The final dense layer in a CNN contains a\n",
        "single node for each target class in the model (all the possible classes the\n",
        "model may predict), with a\n",
        "[softmax](https://en.wikipedia.org/wiki/Softmax_function) activation function to\n",
        "generate a value between 0–1 for each node (the sum of all these softmax values\n",
        "is equal to 1). We can interpret the softmax values for a given image as\n",
        "relative measurements of how likely it is that the image falls into each target\n",
        "class.\n",
        "\n",
        "Note: For a more comprehensive walkthrough of CNN architecture, see Stanford University's [Convolutional Neural Networks for Visual Recognition course material](https://cs231n.github.io/convolutional-networks/)."
      ]
    },
    {
      "cell_type": "markdown",
      "metadata": {
        "id": "j23E_Z0FQvZB",
        "colab_type": "text"
      },
      "source": [
        "## Building the CNN MNIST Classifier\n",
        "\n",
        "Let's build a model to classify the images in the MNIST dataset using the\n",
        "following CNN architecture:\n",
        "\n",
        "1.  **Convolutional Layer #1**: Applies 32 5x5 filters (extracting 5x5-pixel\n",
        "    subregions), with ReLU activation function\n",
        "2.  **Pooling Layer #1**: Performs max pooling with a 2x2 filter and stride of 2\n",
        "    (which specifies that pooled regions do not overlap)\n",
        "3.  **Convolutional Layer #2**: Applies 64 5x5 filters, with ReLU activation\n",
        "    function\n",
        "4.  **Pooling Layer #2**: Again, performs max pooling with a 2x2 filter and\n",
        "    stride of 2\n",
        "5.  **Dense Layer #1**: 1,024 neurons, with dropout regularization rate of 0.4\n",
        "    (probability of 0.4 that any given element will be dropped during training)\n",
        "6.  **Dense Layer #2 (Logits Layer)**: 10 neurons, one for each digit target\n",
        "    class (0–9).\n",
        "\n",
        "The `tf.layers` module contains methods to create each of the three layer types\n",
        "above:\n",
        "\n",
        "*   `conv2d()`. Constructs a two-dimensional convolutional layer. Takes number\n",
        "    of filters, filter kernel size, padding, and activation function as\n",
        "    arguments.\n",
        "*   `max_pooling2d()`. Constructs a two-dimensional pooling layer using the\n",
        "    max-pooling algorithm. Takes pooling filter size and stride as arguments.\n",
        "*   `dense()`. Constructs a dense layer. Takes number of neurons and activation\n",
        "    function as arguments.\n",
        "\n",
        "Each of these methods accepts a tensor as input and returns a transformed tensor\n",
        "as output. This makes it easy to connect one layer to another: just take the\n",
        "output from one layer-creation method and supply it as input to another.\n",
        "\n",
        "Add the following `cnn_model_fn` function, which\n",
        "conforms to the interface expected by TensorFlow's Estimator API (more on this\n",
        "later in [Create the Estimator](#create-the-estimator)). This function takes\n",
        "MNIST feature data, labels, and mode (from\n",
        "`tf.estimator.ModeKeys`: `TRAIN`, `EVAL`, `PREDICT`) as arguments;\n",
        "configures the CNN; and returns predictions, loss, and a training operation:"
      ]
    },
    {
      "cell_type": "code",
      "metadata": {
        "id": "gMR-_3rkRKPa",
        "colab_type": "code",
        "colab": {}
      },
      "source": [
        "def cnn_model_fn(features, labels, mode):\n",
        "  \"\"\"Model function for CNN.\"\"\"\n",
        "  # Input Layer\n",
        "  input_layer = tf.reshape(features[\"x\"], [-1, 28, 28, 1])\n",
        "\n",
        "  # Convolutional Layer #1\n",
        "  conv1 = tf.layers.conv2d(\n",
        "      inputs=input_layer,\n",
        "      filters=32,\n",
        "      kernel_size=[5, 5],\n",
        "      padding=\"same\",\n",
        "      activation=tf.nn.relu)\n",
        "\n",
        "  # Pooling Layer #1\n",
        "  pool1 = tf.layers.max_pooling2d(inputs=conv1, pool_size=[2, 2], strides=2)\n",
        "\n",
        "  # Convolutional Layer #2 and Pooling Layer #2\n",
        "  conv2 = tf.layers.conv2d(\n",
        "      inputs=pool1,\n",
        "      filters=64,\n",
        "      kernel_size=[5, 5],\n",
        "      padding=\"same\",\n",
        "      activation=tf.nn.relu)\n",
        "  pool2 = tf.layers.max_pooling2d(inputs=conv2, pool_size=[2, 2], strides=2)\n",
        "\n",
        "  # Dense Layer\n",
        "  pool2_flat = tf.reshape(pool2, [-1, 7 * 7 * 64])\n",
        "  dense = tf.layers.dense(inputs=pool2_flat, units=1024, activation=tf.nn.relu)\n",
        "  dropout = tf.layers.dropout(\n",
        "      inputs=dense, rate=0.4, training=mode == tf.estimator.ModeKeys.TRAIN)\n",
        "\n",
        "  # Logits Layer\n",
        "  logits = tf.layers.dense(inputs=dropout, units=10)\n",
        "\n",
        "  predictions = {\n",
        "      # Generate predictions (for PREDICT and EVAL mode)\n",
        "      \"classes\": tf.argmax(input=logits, axis=1),\n",
        "      # Add `softmax_tensor` to the graph. It is used for PREDICT and by the\n",
        "      # `logging_hook`.\n",
        "      \"probabilities\": tf.nn.softmax(logits, name=\"softmax_tensor\")\n",
        "  }\n",
        "\n",
        "  if mode == tf.estimator.ModeKeys.PREDICT:\n",
        "    return tf.estimator.EstimatorSpec(mode=mode, predictions=predictions)\n",
        "\n",
        "  # Calculate Loss (for both TRAIN and EVAL modes)\n",
        "  loss = tf.losses.sparse_softmax_cross_entropy(labels=labels, logits=logits)\n",
        "\n",
        "  # Configure the Training Op (for TRAIN mode)\n",
        "  if mode == tf.estimator.ModeKeys.TRAIN:\n",
        "    optimizer = tf.train.GradientDescentOptimizer(learning_rate=0.001)\n",
        "    train_op = optimizer.minimize(\n",
        "        loss=loss,\n",
        "        global_step=tf.train.get_global_step())\n",
        "    return tf.estimator.EstimatorSpec(mode=mode, loss=loss, train_op=train_op)\n",
        "\n",
        "  # Add evaluation metrics (for EVAL mode)\n",
        "  eval_metric_ops = {\n",
        "      \"accuracy\": tf.metrics.accuracy(\n",
        "          labels=labels, predictions=predictions[\"classes\"])\n",
        "  }\n",
        "  return tf.estimator.EstimatorSpec(\n",
        "      mode=mode, loss=loss, eval_metric_ops=eval_metric_ops)"
      ],
      "execution_count": 0,
      "outputs": []
    },
    {
      "cell_type": "markdown",
      "metadata": {
        "id": "b7z8qC9FRSLB",
        "colab_type": "text"
      },
      "source": [
        "The following sections (with headings corresponding to each code block above)\n",
        "dive deeper into the `tf.layers` code used to create each layer, as well as how\n",
        "to calculate loss, configure the training op, and generate predictions. If\n",
        "you're already experienced with CNNs and [TensorFlow `Estimator`s](../../guide/custom_estimators.md),\n",
        "and find the above code intuitive, you may want to skim these sections or just\n",
        "skip ahead to [\"Training and Evaluating the CNN MNIST Classifier\"](#train_eval_mnist)."
      ]
    },
    {
      "cell_type": "markdown",
      "metadata": {
        "id": "sFBXEYRlRUWu",
        "colab_type": "text"
      },
      "source": [
        "### Input Layer\n",
        "\n",
        "The methods in the `layers` module for creating convolutional and pooling layers\n",
        "for two-dimensional image data expect input tensors to have a shape of\n",
        "<code>[<em>batch_size</em>, <em>image_height</em>, <em>image_width</em>,\n",
        "<em>channels</em>]</code> by default. This behavior can be changed using the\n",
        "<code><em>data_format</em></code> parameter; defined as follows:\n",
        "\n",
        "*   `batch_size` —Size of the subset of examples to use when performing\n",
        "    gradient descent during training.\n",
        "*   `image_height` —Height of the example images.\n",
        "*   `image_width` —Width of the example images.\n",
        "*   `channels` —Number of color channels in the example images. For color\n",
        "    images, the number of channels is 3 (red, green, blue). For monochrome\n",
        "    images, there is just 1 channel (black).\n",
        "*   `data_format` —A string, one of `channels_last` (default) or `channels_first`.\n",
        "      `channels_last` corresponds to inputs with shape\n",
        "      `(batch, ..., channels)` while `channels_first` corresponds to\n",
        "      inputs with shape `(batch, channels, ...)`.\n",
        "\n",
        "Here, our MNIST dataset is composed of monochrome 28x28 pixel images, so the\n",
        "desired shape for our input layer is <code>[<em>batch_size</em>, 28, 28,\n",
        "1]</code>.\n",
        "\n",
        "To convert our input feature map (`features`) to this shape, we can perform the\n",
        "following `reshape` operation:\n",
        "\n",
        "```\n",
        "input_layer = tf.reshape(features[\"x\"], [-1, 28, 28, 1])\n",
        "```\n",
        "\n",
        "Note that we've indicated `-1` for batch size, which specifies that this\n",
        "dimension should be dynamically computed based on the number of input values in\n",
        "`features[\"x\"]`, holding the size of all other dimensions constant. This allows\n",
        "us to treat `batch_size` as a hyperparameter that we can tune. For example, if\n",
        "we feed examples into our model in batches of 5, `features[\"x\"]` will contain\n",
        "3,920 values (one value for each pixel in each image), and `input_layer` will\n",
        "have a shape of `[5, 28, 28, 1]`. Similarly, if we feed examples in batches of\n",
        "100, `features[\"x\"]` will contain 78,400 values, and `input_layer` will have a\n",
        "shape of `[100, 28, 28, 1]`."
      ]
    },
    {
      "cell_type": "markdown",
      "metadata": {
        "id": "iU8Jr1_JRiKA",
        "colab_type": "text"
      },
      "source": [
        "### Convolutional Layer #1\n",
        "\n",
        "In our first convolutional layer, we want to apply 32 5x5 filters to the input\n",
        "layer, with a ReLU activation function. We can use the `conv2d()` method in the\n",
        "`layers` module to create this layer as follows:\n",
        "\n",
        "```\n",
        "conv1 = tf.layers.conv2d(\n",
        "    inputs=input_layer,\n",
        "    filters=32,\n",
        "    kernel_size=[5, 5],\n",
        "    padding=\"same\",\n",
        "    activation=tf.nn.relu)\n",
        "```\n",
        "\n",
        "The `inputs` argument specifies our input tensor, which must have the shape\n",
        "<code>[<em>batch_size</em>, <em>image_height</em>, <em>image_width</em>,\n",
        "<em>channels</em>]</code>. Here, we're connecting our first convolutional layer\n",
        "to `input_layer`, which has the shape <code>[<em>batch_size</em>, 28, 28,\n",
        "1]</code>.\n",
        "\n",
        "Note: `conv2d()` will instead accept a shape of `[<em>batch_size</em>, <em>channels</em>, <em>image_height</em>, <em>image_width</em>]` when passed the argument `data_format=channels_first`.\n",
        "\n",
        "The `filters` argument specifies the number of filters to apply (here, 32), and\n",
        "`kernel_size` specifies the dimensions of the filters as `[<em>height</em>,\n",
        "<em>width</em>]</code> (here, <code>[5, 5]`).\n",
        "\n",
        "<p class=\"tip\"><b>TIP:</b> If filter height and width have the same value, you can instead specify a\n",
        "single integer for <code>kernel_size</code>—e.g., <code>kernel_size=5</code>.</p>\n",
        "\n",
        "The `padding` argument specifies one of two enumerated values\n",
        "(case-insensitive): `valid` (default value) or `same`. To specify that the\n",
        "output tensor should have the same height and width values as the input tensor,\n",
        "we set `padding=same` here, which instructs TensorFlow to add 0 values to the\n",
        "edges of the input tensor to preserve height and width of 28. (Without padding,\n",
        "a 5x5 convolution over a 28x28 tensor will produce a 24x24 tensor, as there are\n",
        "24x24 locations to extract a 5x5 tile from a 28x28 grid.)\n",
        "\n",
        "The `activation` argument specifies the activation function to apply to the\n",
        "output of the convolution. Here, we specify ReLU activation with\n",
        "`tf.nn.relu`.\n",
        "\n",
        "Our output tensor produced by `conv2d()` has a shape of\n",
        "<code>[<em>batch_size</em>, 28, 28, 32]</code>: the same height and width\n",
        "dimensions as the input, but now with 32 channels holding the output from each\n",
        "of the filters."
      ]
    },
    {
      "cell_type": "markdown",
      "metadata": {
        "id": "8qzx1ZMFRqt_",
        "colab_type": "text"
      },
      "source": [
        "### Pooling Layer #1\n",
        "\n",
        "Next, we connect our first pooling layer to the convolutional layer we just\n",
        "created. We can use the `max_pooling2d()` method in `layers` to construct a\n",
        "layer that performs max pooling with a 2x2 filter and stride of 2:\n",
        "\n",
        "```\n",
        "pool1 = tf.layers.max_pooling2d(inputs=conv1, pool_size=[2, 2], strides=2)\n",
        "```\n",
        "\n",
        "Again, `inputs` specifies the input tensor, with a shape of\n",
        "<code>[<em>batch_size</em>, <em>image_height</em>, <em>image_width</em>,\n",
        "<em>channels</em>]</code>. Here, our input tensor is `conv1`, the output from\n",
        "the first convolutional layer, which has a shape of <code>[<em>batch_size</em>,\n",
        "28, 28, 32]</code>.\n",
        "\n",
        "Note: As with <code>conv2d()</code>, <code>max_pooling2d()</code> will instead\n",
        "accept a shape of <code>[<em>batch_size</em>, <em>channels</em>,\n",
        "<em>image_height</em>, <em>image_width</em>]</code> when passed the argument\n",
        "<code>data_format=channels_first</code>.\n",
        "\n",
        "The `pool_size` argument specifies the size of the max pooling filter as\n",
        "<code>[<em>height</em>, <em>width</em>]</code> (here, `[2, 2]`). If both\n",
        "dimensions have the same value, you can instead specify a single integer (e.g.,\n",
        "`pool_size=2`).\n",
        "\n",
        "The `strides` argument specifies the size of the stride. Here, we set a stride\n",
        "of 2, which indicates that the subregions extracted by the filter should be\n",
        "separated by 2 pixels in both the height and width dimensions (for a 2x2 filter,\n",
        "this means that none of the regions extracted will overlap). If you want to set\n",
        "different stride values for height and width, you can instead specify a tuple or\n",
        "list (e.g., `stride=[3, 6]`).\n",
        "\n",
        "Our output tensor produced by `max_pooling2d()` (`pool1`) has a shape of\n",
        "<code>[<em>batch_size</em>, 14, 14, 32]</code>: the 2x2 filter reduces height and width by 50% each."
      ]
    },
    {
      "cell_type": "markdown",
      "metadata": {
        "id": "xXej53NlRzFh",
        "colab_type": "text"
      },
      "source": [
        "### Convolutional Layer #2 and Pooling Layer #2\n",
        "\n",
        "We can connect a second convolutional and pooling layer to our CNN using\n",
        "`conv2d()` and `max_pooling2d()` as before. For convolutional layer #2, we\n",
        "configure 64 5x5 filters with ReLU activation, and for pooling layer #2, we use\n",
        "the same specs as pooling layer #1 (a 2x2 max pooling filter with stride of 2):\n",
        "\n",
        "```\n",
        "conv2 = tf.layers.conv2d(\n",
        "    inputs=pool1,\n",
        "    filters=64,\n",
        "    kernel_size=[5, 5],\n",
        "    padding=\"same\",\n",
        "    activation=tf.nn.relu)\n",
        "\n",
        "pool2 = tf.layers.max_pooling2d(inputs=conv2, pool_size=[2, 2], strides=2)\n",
        "```\n",
        "\n",
        "Note that convolutional layer #2 takes the output tensor of our first pooling\n",
        "layer (`pool1`) as input, and produces the tensor `conv2` as output. `conv2`\n",
        "has a shape of <code>[<em>batch_size</em>, 14, 14, 64]</code>, the same height and width as `pool1` (due to `padding=\"same\"`), and 64 channels for the 64\n",
        "filters applied.\n",
        "\n",
        "Pooling layer #2 takes `conv2` as input, producing `pool2` as output. `pool2`\n",
        "has shape <code>[<em>batch_size</em>, 7, 7, 64]</code> (50% reduction of height and width from `conv2`)."
      ]
    },
    {
      "cell_type": "markdown",
      "metadata": {
        "id": "jjmLqVP7R7z6",
        "colab_type": "text"
      },
      "source": [
        "### Dense Layer\n",
        "\n",
        "Next, we want to add a dense layer (with 1,024 neurons and ReLU activation) to\n",
        "our CNN to perform classification on the features extracted by the\n",
        "convolution/pooling layers. Before we connect the layer, however, we'll flatten\n",
        "our feature map (`pool2`) to shape <code>[<em>batch_size</em>,\n",
        "<em>features</em>]</code>, so that our tensor has only two dimensions:\n",
        "\n",
        "```\n",
        "pool2_flat = tf.reshape(pool2, [-1, 7 * 7 * 64])\n",
        "```\n",
        "\n",
        "In the `reshape()` operation above, the `-1` signifies that the *`batch_size`*\n",
        "dimension will be dynamically calculated based on the number of examples in our\n",
        "input data. Each example has 7 (`pool2` height) * 7 (`pool2` width) * 64\n",
        "(`pool2` channels) features, so we want the `features` dimension to have a value\n",
        "of 7 * 7 * 64 (3136 in total). The output tensor, `pool2_flat`, has shape\n",
        "<code>[<em>batch_size</em>, 3136]</code>.\n",
        "\n",
        "Now, we can use the `dense()` method in `layers` to connect our dense layer as\n",
        "follows:\n",
        "\n",
        "```\n",
        "dense = tf.layers.dense(inputs=pool2_flat, units=1024, activation=tf.nn.relu)\n",
        "```\n",
        "\n",
        "The `inputs` argument specifies the input tensor: our flattened feature map,\n",
        "`pool2_flat`. The `units` argument specifies the number of neurons in the dense\n",
        "layer (1,024). The `activation` argument takes the activation function; again,\n",
        "we'll use `tf.nn.relu` to add ReLU activation.\n",
        "\n",
        "To help improve the results of our model, we also apply dropout regularization\n",
        "to our dense layer, using the `dropout` method in `layers`:\n",
        "\n",
        "```\n",
        "dropout = tf.layers.dropout(\n",
        "    inputs=dense, rate=0.4, training=mode == tf.estimator.ModeKeys.TRAIN)\n",
        "```\n",
        "\n",
        "Again, `inputs` specifies the input tensor, which is the output tensor from our\n",
        "dense layer (`dense`).\n",
        "\n",
        "The `rate` argument specifies the dropout rate; here, we use `0.4`, which means\n",
        "40% of the elements will be randomly dropped out during training.\n",
        "\n",
        "The `training` argument takes a boolean specifying whether or not the model is\n",
        "currently being run in training mode; dropout will only be performed if\n",
        "`training` is `True`. Here, we check if the `mode` passed to our model function\n",
        "`cnn_model_fn` is `TRAIN` mode.\n",
        "\n",
        "Our output tensor `dropout` has shape <code>[<em>batch_size</em>, 1024]</code>."
      ]
    },
    {
      "cell_type": "markdown",
      "metadata": {
        "id": "rzUcwkCZSTF7",
        "colab_type": "text"
      },
      "source": [
        "### Logits Layer\n",
        "\n",
        "The final layer in our neural network is the logits layer, which will return the\n",
        "raw values for our predictions. We create a dense layer with 10 neurons (one for\n",
        "each target class 0–9), with linear activation (the default):\n",
        "\n",
        "```\n",
        "logits = tf.layers.dense(inputs=dropout, units=10)\n",
        "```\n",
        "\n",
        "Our final output tensor of the CNN, `logits`, has shape `[batch_size, 10]`."
      ]
    },
    {
      "cell_type": "markdown",
      "metadata": {
        "id": "y3uJ0V1KSakc",
        "colab_type": "text"
      },
      "source": [
        "### Generate Predictions {#generate_predictions}\n",
        "\n",
        "The logits layer of our model returns our predictions as raw values in a\n",
        "<code>[<em>batch_size</em>, 10]</code>-dimensional tensor. Let's convert these\n",
        "raw values into two different formats that our model function can return:\n",
        "\n",
        "*   The **predicted class** for each example: a digit from 0–9.\n",
        "*   The **probabilities** for each possible target class for each example: the\n",
        "    probability that the example is a 0, is a 1, is a 2, etc.\n",
        "\n",
        "For a given example, our predicted class is the element in the corresponding row\n",
        "of the logits tensor with the highest raw value. We can find the index of this\n",
        "element using the `tf.argmax`\n",
        "function:\n",
        "\n",
        "```\n",
        "tf.argmax(input=logits, axis=1)\n",
        "```\n",
        "\n",
        "The `input` argument specifies the tensor from which to extract maximum\n",
        "values—here `logits`. The `axis` argument specifies the axis of the `input`\n",
        "tensor along which to find the greatest value. Here, we want to find the largest\n",
        "value along the dimension with index of 1, which corresponds to our predictions\n",
        "(recall that our logits tensor has shape <code>[<em>batch_size</em>,\n",
        "10]</code>).\n",
        "\n",
        "We can derive probabilities from our logits layer by applying softmax activation\n",
        "using `tf.nn.softmax`:\n",
        "\n",
        "```\n",
        "tf.nn.softmax(logits, name=\"softmax_tensor\")\n",
        "```\n",
        "\n",
        "Note: We use the `name` argument to explicitly name this operation `softmax_tensor`, so we can reference it later. (We'll set up logging for the softmax values in [\"Set Up a Logging Hook\"](#set-up-a-logging-hook)).\n",
        "\n",
        "We compile our predictions in a dict, and return an `EstimatorSpec` object:\n",
        "\n",
        "```\n",
        "predictions = {\n",
        "    \"classes\": tf.argmax(input=logits, axis=1),\n",
        "    \"probabilities\": tf.nn.softmax(logits, name=\"softmax_tensor\")\n",
        "}\n",
        "if mode == tf.estimator.ModeKeys.PREDICT:\n",
        "  return tf.estimator.EstimatorSpec(mode=mode, predictions=predictions)\n",
        "```"
      ]
    },
    {
      "cell_type": "markdown",
      "metadata": {
        "id": "f2ks_tqSSucg",
        "colab_type": "text"
      },
      "source": [
        "### Calculate Loss {#calculating-loss}\n",
        "\n",
        "For both training and evaluation, we need to define a\n",
        "[loss function](https://en.wikipedia.org/wiki/Loss_function)\n",
        "that measures how closely the model's predictions match the target classes. For\n",
        "multiclass classification problems like MNIST,\n",
        "[cross entropy](https://en.wikipedia.org/wiki/Cross_entropy) is typically used\n",
        "as the loss metric. The following code calculates cross entropy when the model\n",
        "runs in either `TRAIN` or `EVAL` mode:\n",
        "\n",
        "```\n",
        "loss = tf.losses.sparse_softmax_cross_entropy(labels=labels, logits=logits)\n",
        "```\n",
        "\n",
        "Let's take a closer look at what's happening above.\n",
        "\n",
        "Our `labels` tensor contains a list of prediction indices for our examples, e.g. `[1,\n",
        "9, ...]`. `logits` contains the linear outputs of our last layer.\n",
        "\n",
        "`tf.losses.sparse_softmax_cross_entropy`, calculates the softmax crossentropy\n",
        "(aka: categorical crossentropy, negative log-likelihood) from these two inputs\n",
        "in an efficient, numerically stable way."
      ]
    },
    {
      "cell_type": "markdown",
      "metadata": {
        "id": "YgE7Ll3pS2FG",
        "colab_type": "text"
      },
      "source": [
        "### Configure the Training Op\n",
        "\n",
        "In the previous section, we defined loss for our CNN as the softmax\n",
        "cross-entropy of the logits layer and our labels. Let's configure our model to\n",
        "optimize this loss value during training. We'll use a learning rate of 0.001 and\n",
        "[stochastic gradient descent](https://en.wikipedia.org/wiki/Stochastic_gradient_descent)\n",
        "as the optimization algorithm:\n",
        "\n",
        "```\n",
        "if mode == tf.estimator.ModeKeys.TRAIN:\n",
        "  optimizer = tf.train.GradientDescentOptimizer(learning_rate=0.001)\n",
        "  train_op = optimizer.minimize(\n",
        "      loss=loss,\n",
        "      global_step=tf.train.get_global_step())\n",
        "  return tf.estimator.EstimatorSpec(mode=mode, loss=loss, train_op=train_op)\n",
        "```"
      ]
    },
    {
      "cell_type": "markdown",
      "metadata": {
        "id": "rEJPnXAzS6m9",
        "colab_type": "text"
      },
      "source": [
        "Note: For a more in-depth look at configuring training ops for Estimator model functions, see [\"Defining the training op for the model\"](../../guide/custom_estimators.md#defining-the-training-op-for-the-model) in the [\"Creating Estimations in tf.estimator\"](../../guide/custom_estimators.md) tutorial."
      ]
    },
    {
      "cell_type": "markdown",
      "metadata": {
        "id": "QQuGDWvHTAib",
        "colab_type": "text"
      },
      "source": [
        "### Add evaluation metrics\n",
        "\n",
        "To add accuracy metric in our model, we define `eval_metric_ops` dict in EVAL\n",
        "mode as follows:\n",
        "\n",
        "```\n",
        "eval_metric_ops = {\n",
        "    \"accuracy\": tf.metrics.accuracy(\n",
        "        labels=labels, predictions=predictions[\"classes\"])\n",
        "}\n",
        "return tf.estimator.EstimatorSpec(\n",
        "    mode=mode, loss=loss, eval_metric_ops=eval_metric_ops)\n",
        "```"
      ]
    },
    {
      "cell_type": "markdown",
      "metadata": {
        "id": "Y2Bwe-AdTRzX",
        "colab_type": "text"
      },
      "source": [
        "<a id=\"train_eval_mnist\"></a>\n",
        "## Training and Evaluating the CNN MNIST Classifier\n",
        "\n",
        "We've coded our MNIST CNN model function; now we're ready to train and evaluate\n",
        "it."
      ]
    },
    {
      "cell_type": "markdown",
      "metadata": {
        "id": "6EC9aOY2TTLU",
        "colab_type": "text"
      },
      "source": [
        "### Load Training and Test Data\n",
        "\n",
        "First, let's load our training and test data with the following code:"
      ]
    },
    {
      "cell_type": "code",
      "metadata": {
        "id": "ccobb0qETV-S",
        "colab_type": "code",
        "colab": {
          "base_uri": "https://localhost:8080/",
          "height": 55
        },
        "outputId": "c2e4af27-70cd-456f-e25f-6621f849d9e8"
      },
      "source": [
        "# Load training and eval data\n",
        "((train_data, train_labels),\n",
        " (eval_data, eval_labels)) = tf.keras.datasets.mnist.load_data()\n",
        "\n",
        "train_data = train_data/np.float32(255)\n",
        "train_labels = train_labels.astype(np.int32)  # not required\n",
        "\n",
        "eval_data = eval_data/np.float32(255)\n",
        "eval_labels = eval_labels.astype(np.int32)  # not required"
      ],
      "execution_count": 13,
      "outputs": [
        {
          "output_type": "stream",
          "text": [
            "Downloading data from https://storage.googleapis.com/tensorflow/tf-keras-datasets/mnist.npz\n",
            "11493376/11490434 [==============================] - 0s 0us/step\n"
          ],
          "name": "stdout"
        }
      ]
    },
    {
      "cell_type": "markdown",
      "metadata": {
        "id": "8l84-IxSTZnO",
        "colab_type": "text"
      },
      "source": [
        "We store the training feature data (the raw pixel values for 55,000 images of\n",
        "hand-drawn digits) and training labels (the corresponding value from 0–9 for\n",
        "each image) as [numpy\n",
        "arrays](https://docs.scipy.org/doc/numpy/reference/generated/numpy.array.html)\n",
        "in `train_data` and `train_labels`, respectively. Similarly, we store the\n",
        "evaluation feature data (10,000 images) and evaluation labels in `eval_data`\n",
        "and `eval_labels`, respectively."
      ]
    },
    {
      "cell_type": "markdown",
      "metadata": {
        "id": "S2_Isc7kTa45",
        "colab_type": "text"
      },
      "source": [
        "### Create the Estimator {#create-the-estimator}\n",
        "\n",
        "Next, let's create an `Estimator` (a TensorFlow class for performing high-level\n",
        "model training, evaluation, and inference) for our model. Add the following code\n",
        "to `main()`:"
      ]
    },
    {
      "cell_type": "code",
      "metadata": {
        "id": "yjC6HdwZTdg4",
        "colab_type": "code",
        "colab": {
          "base_uri": "https://localhost:8080/",
          "height": 205
        },
        "outputId": "f9bc7f4e-9d1a-4064-db9d-ad79c0353b5d"
      },
      "source": [
        "# Create the Estimator\n",
        "mnist_classifier = tf.estimator.Estimator(\n",
        "    model_fn=cnn_model_fn, model_dir=\"/tmp/mnist_convnet_model\")"
      ],
      "execution_count": 14,
      "outputs": [
        {
          "output_type": "stream",
          "text": [
            "WARNING: Logging before flag parsing goes to stderr.\n",
            "I0621 08:46:04.966902 140541451003776 estimator.py:1790] Using default config.\n",
            "I0621 08:46:04.969542 140541451003776 estimator.py:209] Using config: {'_model_dir': '/tmp/mnist_convnet_model', '_tf_random_seed': None, '_save_summary_steps': 100, '_save_checkpoints_steps': None, '_save_checkpoints_secs': 600, '_session_config': allow_soft_placement: true\n",
            "graph_options {\n",
            "  rewrite_options {\n",
            "    meta_optimizer_iterations: ONE\n",
            "  }\n",
            "}\n",
            ", '_keep_checkpoint_max': 5, '_keep_checkpoint_every_n_hours': 10000, '_log_step_count_steps': 100, '_train_distribute': None, '_device_fn': None, '_protocol': None, '_eval_distribute': None, '_experimental_distribute': None, '_experimental_max_worker_delay_secs': None, '_service': None, '_cluster_spec': <tensorflow.python.training.server_lib.ClusterSpec object at 0x7fd2123838d0>, '_task_type': 'worker', '_task_id': 0, '_global_id_in_cluster': 0, '_master': '', '_evaluation_master': '', '_is_chief': True, '_num_ps_replicas': 0, '_num_worker_replicas': 1}\n"
          ],
          "name": "stderr"
        }
      ]
    },
    {
      "cell_type": "markdown",
      "metadata": {
        "id": "f78EBcg7TfTU",
        "colab_type": "text"
      },
      "source": [
        "The `model_fn` argument specifies the model function to use for training,\n",
        "evaluation, and prediction; we pass it the `cnn_model_fn` we created in\n",
        "[\"Building the CNN MNIST Classifier.\"](#building-the-cnn-mnist-classifier) The\n",
        "`model_dir` argument specifies the directory where model data (checkpoints) will\n",
        "be saved (here, we specify the temp directory `/tmp/mnist_convnet_model`, but\n",
        "feel free to change to another directory of your choice).\n",
        "\n",
        "Note: For an in-depth walkthrough of the TensorFlow `Estimator` API, see the tutorial [Creating Estimators in tf.estimator](../../guide/custom_estimators.md)."
      ]
    },
    {
      "cell_type": "markdown",
      "metadata": {
        "id": "_6ow7hVYTm3f",
        "colab_type": "text"
      },
      "source": [
        "### Set Up a Logging Hook {#set_up_a_logging_hook}\n",
        "\n",
        "Since CNNs can take a while to train, let's set up some logging so we can track\n",
        "progress during training. We can use TensorFlow's `tf.train.SessionRunHook` to create a\n",
        "`tf.train.LoggingTensorHook`\n",
        "that will log the probability values from the softmax layer of our CNN. Add the\n",
        "following to `main()`:"
      ]
    },
    {
      "cell_type": "code",
      "metadata": {
        "id": "S6T10kssTpdz",
        "colab_type": "code",
        "colab": {}
      },
      "source": [
        "# Set up logging for predictions\n",
        "tensors_to_log = {\"probabilities\": \"softmax_tensor\"}\n",
        "\n",
        "logging_hook = tf.train.LoggingTensorHook(\n",
        "    tensors=tensors_to_log, every_n_iter=50)"
      ],
      "execution_count": 0,
      "outputs": []
    },
    {
      "cell_type": "markdown",
      "metadata": {
        "id": "RZdtZ6JQTsmg",
        "colab_type": "text"
      },
      "source": [
        "We store a dict of the tensors we want to log in `tensors_to_log`. Each key is a\n",
        "label of our choice that will be printed in the log output, and the\n",
        "corresponding label is the name of a `Tensor` in the TensorFlow graph. Here, our\n",
        "`probabilities` can be found in `softmax_tensor`, the name we gave our softmax\n",
        "operation earlier when we generated the probabilities in `cnn_model_fn`.\n",
        "\n",
        "Note: If you don't explicitly assign a name to an operation via the `name` argument, TensorFlow will assign a default name. A couple easy ways to discover the names applied to operations are to visualize your graph on [TensorBoard](../../guide/graph_viz.md)) or to enable the [TensorFlow Debugger (tfdbg)](../../guide/debugger.md).\n",
        "\n",
        "Next, we create the `LoggingTensorHook`, passing `tensors_to_log` to the\n",
        "`tensors` argument. We set `every_n_iter=50`, which specifies that probabilities\n",
        "should be logged after every 50 steps of training."
      ]
    },
    {
      "cell_type": "markdown",
      "metadata": {
        "id": "brVs1dRMT0NM",
        "colab_type": "text"
      },
      "source": [
        "### Train the Model\n",
        "\n",
        "Now we're ready to train our model, which we can do by creating `train_input_fn`\n",
        "and calling `train()` on `mnist_classifier`. In the `numpy_input_fn` call, we pass the training feature data and labels to\n",
        "`x` (as a dict) and `y`, respectively. We set a `batch_size` of `100` (which\n",
        "means that the model will train on minibatches of 100 examples at each step).\n",
        "`num_epochs=None` means that the model will train until the specified number of\n",
        "steps is reached. We also set `shuffle=True` to shuffle the training data. Then train the model a single step and log the output:"
      ]
    },
    {
      "cell_type": "code",
      "metadata": {
        "id": "h-dewpleT2sk",
        "colab_type": "code",
        "colab": {
          "base_uri": "https://localhost:8080/",
          "height": 4536
        },
        "outputId": "a7db0359-f135-41e4-cd68-cf4222cadd83"
      },
      "source": [
        "# Train the model\n",
        "train_input_fn = tf.estimator.inputs.numpy_input_fn(\n",
        "    x={\"x\": train_data},\n",
        "    y=train_labels,\n",
        "    batch_size=100,\n",
        "    num_epochs=None,\n",
        "    shuffle=True)\n",
        "\n",
        "# train one step and display the probabilties\n",
        "mnist_classifier.train(\n",
        "    input_fn=train_input_fn,\n",
        "    steps=1,\n",
        "    hooks=[logging_hook])"
      ],
      "execution_count": 17,
      "outputs": [
        {
          "output_type": "stream",
          "text": [
            "W0621 08:47:47.963901 140541451003776 deprecation.py:323] From /usr/local/lib/python3.6/dist-packages/tensorflow/python/training/training_util.py:236: Variable.initialized_value (from tensorflow.python.ops.variables) is deprecated and will be removed in a future version.\n",
            "Instructions for updating:\n",
            "Use Variable.read_value. Variables in 2.X are initialized automatically both in eager and graph (inside tf.defun) contexts.\n",
            "W0621 08:47:47.983846 140541451003776 deprecation.py:323] From /usr/local/lib/python3.6/dist-packages/tensorflow_estimator/python/estimator/inputs/queues/feeding_queue_runner.py:62: QueueRunner.__init__ (from tensorflow.python.training.queue_runner_impl) is deprecated and will be removed in a future version.\n",
            "Instructions for updating:\n",
            "To construct input pipelines, use the `tf.data` module.\n",
            "W0621 08:47:47.988010 140541451003776 deprecation.py:323] From /usr/local/lib/python3.6/dist-packages/tensorflow_estimator/python/estimator/inputs/queues/feeding_functions.py:500: add_queue_runner (from tensorflow.python.training.queue_runner_impl) is deprecated and will be removed in a future version.\n",
            "Instructions for updating:\n",
            "To construct input pipelines, use the `tf.data` module.\n",
            "I0621 08:47:47.998755 140541451003776 estimator.py:1145] Calling model_fn.\n",
            "W0621 08:47:48.008532 140541451003776 deprecation.py:323] From <ipython-input-12-16a10fb7f348>:12: conv2d (from tensorflow.python.layers.convolutional) is deprecated and will be removed in a future version.\n",
            "Instructions for updating:\n",
            "Use `tf.keras.layers.Conv2D` instead.\n",
            "W0621 08:47:48.017725 140541451003776 deprecation.py:506] From /usr/local/lib/python3.6/dist-packages/tensorflow/python/ops/init_ops.py:1251: calling VarianceScaling.__init__ (from tensorflow.python.ops.init_ops) with dtype is deprecated and will be removed in a future version.\n",
            "Instructions for updating:\n",
            "Call initializer instance with the dtype argument instead of passing it to the constructor\n",
            "W0621 08:47:48.281487 140541451003776 deprecation.py:323] From <ipython-input-12-16a10fb7f348>:15: max_pooling2d (from tensorflow.python.layers.pooling) is deprecated and will be removed in a future version.\n",
            "Instructions for updating:\n",
            "Use keras.layers.MaxPooling2D instead.\n",
            "W0621 08:47:48.454551 140541451003776 deprecation.py:323] From <ipython-input-12-16a10fb7f348>:28: dense (from tensorflow.python.layers.core) is deprecated and will be removed in a future version.\n",
            "Instructions for updating:\n",
            "Use keras.layers.dense instead.\n",
            "W0621 08:47:48.785072 140541451003776 deprecation.py:323] From <ipython-input-12-16a10fb7f348>:30: dropout (from tensorflow.python.layers.core) is deprecated and will be removed in a future version.\n",
            "Instructions for updating:\n",
            "Use keras.layers.dropout instead.\n",
            "W0621 08:47:48.891986 140541451003776 deprecation.py:323] From /usr/local/lib/python3.6/dist-packages/tensorflow/python/ops/losses/losses_impl.py:121: add_dispatch_support.<locals>.wrapper (from tensorflow.python.ops.array_ops) is deprecated and will be removed in a future version.\n",
            "Instructions for updating:\n",
            "Use tf.where in 2.0, which has the same broadcast rule as np.where\n",
            "I0621 08:47:49.149882 140541451003776 estimator.py:1147] Done calling model_fn.\n",
            "I0621 08:47:49.153800 140541451003776 basic_session_run_hooks.py:541] Create CheckpointSaverHook.\n",
            "I0621 08:47:49.299462 140541451003776 monitored_session.py:240] Graph was finalized.\n",
            "I0621 08:47:49.924871 140541451003776 session_manager.py:500] Running local_init_op.\n",
            "I0621 08:47:49.933855 140541451003776 session_manager.py:502] Done running local_init_op.\n",
            "W0621 08:47:49.957991 140541451003776 deprecation.py:323] From /usr/local/lib/python3.6/dist-packages/tensorflow/python/training/monitored_session.py:875: start_queue_runners (from tensorflow.python.training.queue_runner_impl) is deprecated and will be removed in a future version.\n",
            "Instructions for updating:\n",
            "To construct input pipelines, use the `tf.data` module.\n",
            "I0621 08:47:50.167331 140541451003776 basic_session_run_hooks.py:606] Saving checkpoints for 0 into /tmp/mnist_convnet_model/model.ckpt.\n",
            "I0621 08:47:53.387183 140541451003776 basic_session_run_hooks.py:262] probabilities = [[0.11245057 0.08587625 0.10332927 0.09813102 0.08505579 0.1051028\n",
            "  0.10333391 0.10326163 0.08570936 0.11774938]\n",
            " [0.11434708 0.09122322 0.09604877 0.10885866 0.08504318 0.10269396\n",
            "  0.10642985 0.10134286 0.07982502 0.11418745]\n",
            " [0.10789585 0.07861342 0.09515561 0.09662887 0.09020946 0.09952435\n",
            "  0.09699147 0.12534493 0.10144442 0.10819156]\n",
            " [0.10302984 0.0944825  0.0986355  0.08371907 0.07828681 0.11471807\n",
            "  0.11744095 0.10766502 0.08911016 0.11291206]\n",
            " [0.11811616 0.08241539 0.10309507 0.10954834 0.0817278  0.1092613\n",
            "  0.09987739 0.08736894 0.08740155 0.12118805]\n",
            " [0.10648049 0.10246996 0.10110438 0.09443037 0.0944291  0.09236957\n",
            "  0.09848698 0.11344694 0.09587607 0.10090608]\n",
            " [0.09810799 0.1004148  0.09812153 0.0960959  0.0949779  0.10062911\n",
            "  0.10895755 0.1093782  0.08765025 0.10566668]\n",
            " [0.1127611  0.07952399 0.09676079 0.08806705 0.08256328 0.10772511\n",
            "  0.08750166 0.12061352 0.10155259 0.1229309 ]\n",
            " [0.1028331  0.08295994 0.10615176 0.09882124 0.08109675 0.10198619\n",
            "  0.10009458 0.11929404 0.09637125 0.11039107]\n",
            " [0.09300891 0.09532889 0.08396974 0.11145351 0.08002853 0.11655807\n",
            "  0.09461471 0.10433276 0.09647202 0.12423283]\n",
            " [0.10257044 0.08977217 0.10222299 0.11357296 0.08565436 0.11241519\n",
            "  0.11860769 0.09480726 0.08742597 0.09295098]\n",
            " [0.10641906 0.08514005 0.09537175 0.09682402 0.09038734 0.11135038\n",
            "  0.09754211 0.10439715 0.09045378 0.12211435]\n",
            " [0.09662018 0.09844678 0.08622746 0.10007346 0.08961283 0.10463386\n",
            "  0.10303573 0.11563286 0.10347431 0.10224255]\n",
            " [0.0907618  0.08587812 0.09779272 0.10997687 0.0961616  0.11828949\n",
            "  0.10620349 0.09636769 0.09229776 0.10627051]\n",
            " [0.10007548 0.08921456 0.10273558 0.08887916 0.08752101 0.1155341\n",
            "  0.10695498 0.09506748 0.09081347 0.12320421]\n",
            " [0.10184468 0.08387302 0.09069844 0.09138007 0.09421542 0.1152196\n",
            "  0.10085753 0.10540501 0.10736641 0.10913987]\n",
            " [0.10982157 0.08606166 0.10070034 0.08897089 0.09023126 0.08970216\n",
            "  0.11788957 0.12374174 0.0892177  0.10366308]\n",
            " [0.10289049 0.10483366 0.10381627 0.10599121 0.08636534 0.09718269\n",
            "  0.11033459 0.09095018 0.09529343 0.10234217]\n",
            " [0.11041746 0.08989374 0.10625271 0.10524874 0.07716229 0.10730743\n",
            "  0.10831823 0.10047728 0.08699515 0.10792696]\n",
            " [0.10059094 0.09947739 0.08534934 0.10151965 0.08603155 0.09710858\n",
            "  0.11708787 0.10521311 0.10222033 0.10540128]\n",
            " [0.10179026 0.10082086 0.09440062 0.0925143  0.08791483 0.10222077\n",
            "  0.09934347 0.1091047  0.10601593 0.10587422]\n",
            " [0.10881436 0.08092429 0.09798304 0.09684989 0.10092587 0.09933084\n",
            "  0.08732014 0.11166237 0.09797855 0.11821065]\n",
            " [0.08092442 0.0989051  0.1026495  0.12919432 0.08852006 0.0945098\n",
            "  0.09983764 0.09472784 0.0960393  0.11469203]\n",
            " [0.10802905 0.09527454 0.08688623 0.08557653 0.09502506 0.12236654\n",
            "  0.09515959 0.10654894 0.09272656 0.11240692]\n",
            " [0.11323315 0.08142587 0.08418612 0.10548804 0.07982346 0.09939333\n",
            "  0.10496664 0.10133172 0.10802247 0.12212919]\n",
            " [0.08123817 0.09861564 0.10886915 0.09484762 0.09191708 0.11798071\n",
            "  0.10569112 0.10619961 0.08858236 0.10605859]\n",
            " [0.11800743 0.09257993 0.10399266 0.09140739 0.08961476 0.11220822\n",
            "  0.0966019  0.09317313 0.09588158 0.10653302]\n",
            " [0.10728217 0.08094092 0.08813527 0.08206568 0.08111026 0.1190038\n",
            "  0.10187291 0.12755191 0.09916494 0.11287209]\n",
            " [0.1285372  0.07872821 0.10268654 0.08600464 0.08154607 0.0932278\n",
            "  0.10121534 0.13025962 0.09979851 0.097996  ]\n",
            " [0.09386194 0.09055607 0.10192008 0.1001803  0.09759329 0.10366957\n",
            "  0.09980351 0.10712329 0.09202421 0.11326773]\n",
            " [0.09436292 0.10592727 0.09123166 0.09835197 0.0914219  0.11721068\n",
            "  0.09700977 0.10122728 0.09915045 0.10410605]\n",
            " [0.11937573 0.07336608 0.09593552 0.09843012 0.07585143 0.09627204\n",
            "  0.10521227 0.11551879 0.10760245 0.11243555]\n",
            " [0.09650327 0.09669599 0.1017613  0.10673146 0.08628803 0.10558985\n",
            "  0.09514382 0.10141087 0.10361605 0.1062593 ]\n",
            " [0.109977   0.08877775 0.09218979 0.10673946 0.10208715 0.09543875\n",
            "  0.10037297 0.10795832 0.08871938 0.10773943]\n",
            " [0.11002425 0.0921405  0.09498298 0.1005992  0.08184483 0.1106934\n",
            "  0.10453    0.09929013 0.10610009 0.09979455]\n",
            " [0.09189299 0.07737121 0.10438994 0.1137409  0.10424618 0.09976229\n",
            "  0.10580257 0.08732025 0.10685295 0.10862073]\n",
            " [0.09601945 0.07939824 0.07878681 0.1098836  0.08311801 0.11217037\n",
            "  0.11545733 0.10408886 0.10408305 0.11699439]\n",
            " [0.08854229 0.08811244 0.10194568 0.10499515 0.08694027 0.11407168\n",
            "  0.09842391 0.11240456 0.09880518 0.10575888]\n",
            " [0.09459144 0.09532683 0.08895624 0.1084884  0.09213478 0.10413618\n",
            "  0.10702515 0.09532265 0.10286475 0.11115356]\n",
            " [0.10706797 0.09728332 0.09324193 0.08638237 0.09316811 0.0961198\n",
            "  0.097347   0.10313937 0.10480179 0.1214483 ]\n",
            " [0.08765277 0.09346414 0.10362974 0.09340443 0.09477104 0.10971934\n",
            "  0.10146605 0.0934617  0.11489026 0.10754059]\n",
            " [0.10631575 0.0870493  0.09448379 0.09692968 0.07995138 0.10487043\n",
            "  0.08900534 0.1195045  0.10192517 0.11996473]\n",
            " [0.09183919 0.09754074 0.10867601 0.08845076 0.09099004 0.11151423\n",
            "  0.0946724  0.10923216 0.10772144 0.0993631 ]\n",
            " [0.10679299 0.09144348 0.09435586 0.09970289 0.08542438 0.11775788\n",
            "  0.09756983 0.10983025 0.09554134 0.10158107]\n",
            " [0.1025301  0.10625462 0.08523589 0.09620027 0.07631931 0.10427829\n",
            "  0.09793139 0.10156865 0.10356984 0.12611161]\n",
            " [0.13214132 0.09784111 0.10112583 0.09286696 0.08140951 0.09723501\n",
            "  0.09394974 0.11951513 0.092351   0.09156441]\n",
            " [0.09936918 0.09411266 0.09857937 0.10876363 0.088581   0.10677802\n",
            "  0.10369457 0.09303866 0.09518373 0.11189922]\n",
            " [0.11415856 0.09486965 0.08379532 0.10089201 0.08726947 0.09979626\n",
            "  0.10827194 0.09849308 0.10031158 0.11214209]\n",
            " [0.10830323 0.10027297 0.08787422 0.0994456  0.08669728 0.0968733\n",
            "  0.11167543 0.10724265 0.09620929 0.10540595]\n",
            " [0.10975421 0.08238953 0.10778204 0.09732296 0.08082755 0.09287278\n",
            "  0.11232682 0.1027153  0.09762698 0.11638182]\n",
            " [0.10023058 0.10902227 0.08230479 0.11142857 0.0859841  0.10802256\n",
            "  0.10139035 0.10138392 0.08277679 0.11745608]\n",
            " [0.1125825  0.09336746 0.08190961 0.09515355 0.08528799 0.10205031\n",
            "  0.10454107 0.11489944 0.10023803 0.10997003]\n",
            " [0.10620501 0.08745039 0.11320454 0.09416331 0.07327142 0.12914774\n",
            "  0.10831124 0.08576059 0.09658495 0.10590074]\n",
            " [0.09541737 0.11272381 0.10267615 0.10204978 0.08547492 0.109318\n",
            "  0.10156628 0.10937647 0.0837293  0.09766799]\n",
            " [0.11227957 0.08794912 0.10956432 0.09516564 0.0763673  0.09251779\n",
            "  0.09890649 0.11661954 0.10524119 0.10538906]\n",
            " [0.11115857 0.11010374 0.08479752 0.09598719 0.0838078  0.10656917\n",
            "  0.09735486 0.10318011 0.09351735 0.11352369]\n",
            " [0.10982358 0.09626663 0.10272869 0.10267923 0.08719967 0.09435273\n",
            "  0.09952786 0.10554969 0.1071551  0.09471676]\n",
            " [0.09436939 0.09165875 0.10073497 0.11382939 0.08577112 0.10965262\n",
            "  0.09998337 0.11705747 0.08732983 0.09961304]\n",
            " [0.09962327 0.09078293 0.10661132 0.11148357 0.09483575 0.11594351\n",
            "  0.09127293 0.09956146 0.08828177 0.10160355]\n",
            " [0.1047884  0.09425603 0.09236583 0.09737087 0.09174456 0.10563064\n",
            "  0.09626959 0.11117025 0.09927723 0.10712666]\n",
            " [0.09874254 0.09603663 0.1010239  0.1084412  0.09456343 0.10870987\n",
            "  0.08705281 0.09505805 0.09583636 0.1145352 ]\n",
            " [0.10335843 0.09479853 0.09954472 0.08969868 0.09138931 0.09919523\n",
            "  0.10085373 0.1037648  0.09824865 0.11914796]\n",
            " [0.10263346 0.10345147 0.08812291 0.10399498 0.09155367 0.10981207\n",
            "  0.10093716 0.10603301 0.08323888 0.11022241]\n",
            " [0.09968278 0.09634976 0.08649397 0.10905339 0.09294395 0.09023639\n",
            "  0.10456283 0.10071594 0.09478142 0.12517957]\n",
            " [0.08905253 0.09973203 0.1073552  0.1207514  0.08744188 0.10778536\n",
            "  0.09307576 0.09660009 0.08533677 0.11286899]\n",
            " [0.10279237 0.09095888 0.09170415 0.11086282 0.0834896  0.10591023\n",
            "  0.09596395 0.11683857 0.08896602 0.11251342]\n",
            " [0.09096338 0.09550925 0.08508536 0.09197685 0.07445931 0.11140732\n",
            "  0.12226459 0.10130087 0.10675778 0.12027524]\n",
            " [0.08999614 0.08957946 0.10987274 0.10064244 0.08633575 0.10240195\n",
            "  0.09667316 0.09593954 0.09744004 0.13111873]\n",
            " [0.11232268 0.08917595 0.10836001 0.10980465 0.08105461 0.10788047\n",
            "  0.1060333  0.0871461  0.09828088 0.09994135]\n",
            " [0.0982991  0.08914199 0.10809354 0.09176543 0.08488084 0.10700875\n",
            "  0.10079523 0.1107351  0.10731591 0.10196412]\n",
            " [0.10643439 0.08837725 0.09681303 0.09743008 0.09526455 0.1157753\n",
            "  0.09373808 0.09968871 0.09541996 0.1110587 ]\n",
            " [0.10686158 0.09354976 0.09006848 0.11011713 0.08298498 0.1047769\n",
            "  0.08601606 0.10422349 0.10444552 0.1169561 ]\n",
            " [0.1028985  0.09031525 0.09352782 0.09383803 0.09442554 0.10963073\n",
            "  0.10000584 0.09392257 0.10790647 0.11352931]\n",
            " [0.10991856 0.09141188 0.0991841  0.09996007 0.08370394 0.10482154\n",
            "  0.10510385 0.10733734 0.09313371 0.10542497]\n",
            " [0.11606859 0.09657575 0.09007528 0.09237535 0.08364722 0.10552017\n",
            "  0.10783601 0.11214721 0.08507446 0.11067995]\n",
            " [0.09654004 0.10264581 0.10188259 0.10887692 0.08140453 0.10899579\n",
            "  0.09159208 0.10664927 0.08922003 0.11219289]\n",
            " [0.10175268 0.09797246 0.08337855 0.09634221 0.09581664 0.11568896\n",
            "  0.09580044 0.10647733 0.09380646 0.11296431]\n",
            " [0.09754892 0.099884   0.09698605 0.10345365 0.09343069 0.10424074\n",
            "  0.09119344 0.10802982 0.09183916 0.1133935 ]\n",
            " [0.10699047 0.08865324 0.08997033 0.09513359 0.09481917 0.1029234\n",
            "  0.09356495 0.1259056  0.09933126 0.10270804]\n",
            " [0.09730275 0.10415677 0.09395745 0.10386546 0.07870152 0.10049326\n",
            "  0.09890223 0.105692   0.1049753  0.11195325]\n",
            " [0.10528315 0.07946656 0.10244684 0.09873155 0.08984662 0.08873648\n",
            "  0.1237779  0.10076783 0.0988196  0.11212351]\n",
            " [0.11156731 0.08928953 0.09902453 0.09855069 0.08398886 0.10757676\n",
            "  0.10413793 0.10830243 0.09016702 0.10739493]\n",
            " [0.09039436 0.09071334 0.09695216 0.12256639 0.07711854 0.11198317\n",
            "  0.10575634 0.1060887  0.09211162 0.1063154 ]\n",
            " [0.09943207 0.09890901 0.09253117 0.10368598 0.08614644 0.09991013\n",
            "  0.10325735 0.10234075 0.09787083 0.11591623]\n",
            " [0.10460643 0.08761738 0.08493517 0.10165674 0.0768015  0.10168295\n",
            "  0.11983926 0.11005997 0.09770321 0.11509734]\n",
            " [0.09429503 0.09313263 0.10874209 0.1089303  0.09253357 0.10607468\n",
            "  0.09688611 0.10338167 0.09124112 0.10478286]\n",
            " [0.09102862 0.08826538 0.09390983 0.10056377 0.08961745 0.09711441\n",
            "  0.10356417 0.11868794 0.10844146 0.1088069 ]\n",
            " [0.10334942 0.0893564  0.10213123 0.11144152 0.08904324 0.10814566\n",
            "  0.09332933 0.08927994 0.0932114  0.12071189]\n",
            " [0.1221928  0.09904124 0.08130717 0.09860161 0.08354603 0.10595439\n",
            "  0.10376104 0.10804094 0.09900933 0.09854546]\n",
            " [0.1128594  0.09299434 0.08832803 0.09422234 0.08697234 0.10781588\n",
            "  0.11046379 0.09739611 0.09855071 0.11039703]\n",
            " [0.09202304 0.09163937 0.07434644 0.09883871 0.08566456 0.10830166\n",
            "  0.1255516  0.11638136 0.09068011 0.11657317]\n",
            " [0.10048643 0.10110711 0.08437348 0.10722064 0.09908462 0.1094626\n",
            "  0.11217549 0.09767156 0.07721753 0.11120052]\n",
            " [0.10904588 0.09206168 0.10763474 0.09226019 0.09047691 0.10962832\n",
            "  0.09069854 0.10666579 0.10460243 0.09692548]\n",
            " [0.10820741 0.09193502 0.08272149 0.10510227 0.09129569 0.1092433\n",
            "  0.11610297 0.10632285 0.08846233 0.10060667]\n",
            " [0.09540709 0.0922028  0.09703646 0.12075526 0.09206045 0.09521421\n",
            "  0.09578171 0.10253675 0.08846138 0.1205439 ]\n",
            " [0.10910944 0.10987502 0.08653088 0.10084225 0.088686   0.10755937\n",
            "  0.09247459 0.108555   0.08800144 0.10836598]\n",
            " [0.10136391 0.09372753 0.08558033 0.10528545 0.08919276 0.11218568\n",
            "  0.10128456 0.1036036  0.09629948 0.11147661]\n",
            " [0.10112773 0.09698752 0.10256835 0.10935955 0.09289772 0.10181115\n",
            "  0.10612313 0.09284339 0.08921454 0.10706699]\n",
            " [0.09601703 0.09538282 0.09719139 0.09704981 0.0976962  0.11237462\n",
            "  0.10999405 0.11066043 0.08795422 0.09567946]\n",
            " [0.09168763 0.09211539 0.10324319 0.09965868 0.09439103 0.09846352\n",
            "  0.11372088 0.10708059 0.10090388 0.09873519]]\n",
            "I0621 08:47:53.400607 140541451003776 basic_session_run_hooks.py:262] loss = 2.3036618, step = 0\n",
            "I0621 08:47:53.408351 140541451003776 basic_session_run_hooks.py:606] Saving checkpoints for 1 into /tmp/mnist_convnet_model/model.ckpt.\n",
            "I0621 08:47:53.539450 140541451003776 estimator.py:368] Loss for final step: 2.3036618.\n"
          ],
          "name": "stderr"
        },
        {
          "output_type": "execute_result",
          "data": {
            "text/plain": [
              "<tensorflow_estimator.python.estimator.estimator.Estimator at 0x7fd212383a58>"
            ]
          },
          "metadata": {
            "tags": []
          },
          "execution_count": 17
        }
      ]
    },
    {
      "cell_type": "markdown",
      "metadata": {
        "id": "gyNSE3e-14Lq",
        "colab_type": "text"
      },
      "source": [
        "Now—without logging each step—set `steps=1000` to train the model longer, but in a reasonable time to run this example. Training CNNs is computationally intensive. To increase the accuracy of your model, increase the number of `steps` passed to `train()`, like 20,000 steps."
      ]
    },
    {
      "cell_type": "code",
      "metadata": {
        "id": "cri6zqcf2IXY",
        "colab_type": "code",
        "colab": {
          "base_uri": "https://localhost:8080/",
          "height": 709
        },
        "outputId": "1433f5d1-afb6-45a9-aaac-bd6f73b54600"
      },
      "source": [
        "mnist_classifier.train(input_fn=train_input_fn, steps=1000)"
      ],
      "execution_count": 18,
      "outputs": [
        {
          "output_type": "stream",
          "text": [
            "I0621 08:50:13.385994 140541451003776 estimator.py:1145] Calling model_fn.\n",
            "I0621 08:50:13.613036 140541451003776 estimator.py:1147] Done calling model_fn.\n",
            "I0621 08:50:13.617024 140541451003776 basic_session_run_hooks.py:541] Create CheckpointSaverHook.\n",
            "I0621 08:50:13.715721 140541451003776 monitored_session.py:240] Graph was finalized.\n",
            "W0621 08:50:13.733505 140541451003776 deprecation.py:323] From /usr/local/lib/python3.6/dist-packages/tensorflow/python/training/saver.py:1276: checkpoint_exists (from tensorflow.python.training.checkpoint_management) is deprecated and will be removed in a future version.\n",
            "Instructions for updating:\n",
            "Use standard file APIs to check for files with this prefix.\n",
            "I0621 08:50:13.740211 140541451003776 saver.py:1280] Restoring parameters from /tmp/mnist_convnet_model/model.ckpt-1\n",
            "W0621 08:50:13.776918 140541451003776 deprecation.py:323] From /usr/local/lib/python3.6/dist-packages/tensorflow/python/training/saver.py:1066: get_checkpoint_mtimes (from tensorflow.python.training.checkpoint_management) is deprecated and will be removed in a future version.\n",
            "Instructions for updating:\n",
            "Use standard file utilities to get mtimes.\n",
            "I0621 08:50:13.802642 140541451003776 session_manager.py:500] Running local_init_op.\n",
            "I0621 08:50:13.813866 140541451003776 session_manager.py:502] Done running local_init_op.\n",
            "I0621 08:50:14.047050 140541451003776 basic_session_run_hooks.py:606] Saving checkpoints for 1 into /tmp/mnist_convnet_model/model.ckpt.\n",
            "I0621 08:50:14.193615 140541451003776 basic_session_run_hooks.py:262] loss = 2.30748, step = 1\n",
            "I0621 08:50:15.439900 140541451003776 basic_session_run_hooks.py:692] global_step/sec: 80.1967\n",
            "I0621 08:50:15.442744 140541451003776 basic_session_run_hooks.py:260] loss = 2.291466, step = 101 (1.249 sec)\n",
            "I0621 08:50:16.553205 140541451003776 basic_session_run_hooks.py:692] global_step/sec: 89.829\n",
            "I0621 08:50:16.558537 140541451003776 basic_session_run_hooks.py:260] loss = 2.275398, step = 201 (1.116 sec)\n",
            "I0621 08:50:17.816727 140541451003776 basic_session_run_hooks.py:692] global_step/sec: 79.1462\n",
            "I0621 08:50:17.821279 140541451003776 basic_session_run_hooks.py:260] loss = 2.2395692, step = 301 (1.263 sec)\n",
            "I0621 08:50:19.112051 140541451003776 basic_session_run_hooks.py:692] global_step/sec: 77.2019\n",
            "I0621 08:50:19.120905 140541451003776 basic_session_run_hooks.py:260] loss = 2.2068849, step = 401 (1.300 sec)\n",
            "I0621 08:50:20.343690 140541451003776 basic_session_run_hooks.py:692] global_step/sec: 81.1867\n",
            "I0621 08:50:20.348850 140541451003776 basic_session_run_hooks.py:260] loss = 2.1846685, step = 501 (1.228 sec)\n",
            "I0621 08:50:21.590040 140541451003776 basic_session_run_hooks.py:692] global_step/sec: 80.235\n",
            "I0621 08:50:21.592531 140541451003776 basic_session_run_hooks.py:260] loss = 2.1320806, step = 601 (1.244 sec)\n",
            "I0621 08:50:22.820998 140541451003776 basic_session_run_hooks.py:692] global_step/sec: 81.247\n",
            "I0621 08:50:22.835613 140541451003776 basic_session_run_hooks.py:260] loss = 2.0553696, step = 701 (1.243 sec)\n",
            "I0621 08:50:24.070725 140541451003776 basic_session_run_hooks.py:692] global_step/sec: 80.0265\n",
            "I0621 08:50:24.074078 140541451003776 basic_session_run_hooks.py:260] loss = 2.046112, step = 801 (1.238 sec)\n",
            "I0621 08:50:25.311727 140541451003776 basic_session_run_hooks.py:692] global_step/sec: 80.565\n",
            "I0621 08:50:25.320910 140541451003776 basic_session_run_hooks.py:260] loss = 1.9675131, step = 901 (1.247 sec)\n",
            "I0621 08:50:26.571698 140541451003776 basic_session_run_hooks.py:606] Saving checkpoints for 1001 into /tmp/mnist_convnet_model/model.ckpt.\n",
            "I0621 08:50:26.702501 140541451003776 estimator.py:368] Loss for final step: 1.8371887.\n"
          ],
          "name": "stderr"
        },
        {
          "output_type": "execute_result",
          "data": {
            "text/plain": [
              "<tensorflow_estimator.python.estimator.estimator.Estimator at 0x7fd212383a58>"
            ]
          },
          "metadata": {
            "tags": []
          },
          "execution_count": 18
        }
      ]
    },
    {
      "cell_type": "markdown",
      "metadata": {
        "id": "4bQdkLMeUE5U",
        "colab_type": "text"
      },
      "source": [
        "### Evaluate the Model\n",
        "\n",
        "Once training is complete, we want to evaluate our model to determine its\n",
        "accuracy on the MNIST test set. We call the `evaluate` method, which evaluates\n",
        "the metrics we specified in `eval_metric_ops` argument in the `model_fn`.\n",
        "Add the following to `main()`:"
      ]
    },
    {
      "cell_type": "code",
      "metadata": {
        "id": "I0RGiqd0UF0N",
        "colab_type": "code",
        "colab": {
          "base_uri": "https://localhost:8080/",
          "height": 243
        },
        "outputId": "aea45e37-ae51-4421-a780-e489156bc894"
      },
      "source": [
        "eval_input_fn = tf.estimator.inputs.numpy_input_fn(\n",
        "    x={\"x\": eval_data},\n",
        "    y=eval_labels,\n",
        "    num_epochs=1,\n",
        "    shuffle=False)\n",
        "\n",
        "eval_results = mnist_classifier.evaluate(input_fn=eval_input_fn)\n",
        "print(eval_results)"
      ],
      "execution_count": 19,
      "outputs": [
        {
          "output_type": "stream",
          "text": [
            "I0621 08:50:51.709946 140541451003776 estimator.py:1145] Calling model_fn.\n",
            "I0621 08:50:51.864193 140541451003776 estimator.py:1147] Done calling model_fn.\n",
            "I0621 08:50:51.900698 140541451003776 evaluation.py:255] Starting evaluation at 2019-06-21T08:50:51Z\n",
            "I0621 08:50:52.010205 140541451003776 monitored_session.py:240] Graph was finalized.\n",
            "I0621 08:50:52.027034 140541451003776 saver.py:1280] Restoring parameters from /tmp/mnist_convnet_model/model.ckpt-1001\n",
            "I0621 08:50:52.085789 140541451003776 session_manager.py:500] Running local_init_op.\n",
            "I0621 08:50:52.103904 140541451003776 session_manager.py:502] Done running local_init_op.\n",
            "I0621 08:50:53.266325 140541451003776 evaluation.py:275] Finished evaluation at 2019-06-21-08:50:53\n",
            "I0621 08:50:53.271352 140541451003776 estimator.py:2039] Saving dict for global step 1001: accuracy = 0.7274, global_step = 1001, loss = 1.8086402\n",
            "I0621 08:50:53.386492 140541451003776 estimator.py:2099] Saving 'checkpoint_path' summary for global step 1001: /tmp/mnist_convnet_model/model.ckpt-1001\n"
          ],
          "name": "stderr"
        },
        {
          "output_type": "stream",
          "text": [
            "{'accuracy': 0.7274, 'loss': 1.8086402, 'global_step': 1001}\n"
          ],
          "name": "stdout"
        }
      ]
    },
    {
      "cell_type": "markdown",
      "metadata": {
        "id": "JIBVID6dUIXT",
        "colab_type": "text"
      },
      "source": [
        "To create `eval_input_fn`, we set `num_epochs=1`, so that the model evaluates\n",
        "the metrics over one epoch of data and returns the result. We also set\n",
        "`shuffle=False` to iterate through the data sequentially."
      ]
    },
    {
      "cell_type": "markdown",
      "metadata": {
        "id": "htmLZ-zEUZZk",
        "colab_type": "text"
      },
      "source": [
        "## Additional Resources\n",
        "\n",
        "To learn more about TensorFlow Estimators and CNNs in TensorFlow, see the\n",
        "following resources:\n",
        "\n",
        "*   [Creating Estimators in tf.estimator](../../guide/custom_estimators.md)\n",
        "    provides an introduction to the TensorFlow Estimator API. It walks through\n",
        "    configuring an Estimator, writing a model function, calculating loss, and\n",
        "    defining a training op.\n",
        "*   [Advanced Convolutional Neural Networks](../../tutorials/images/deep_cnn.md) walks through how to build a MNIST CNN classification model\n",
        "    *without estimators* using lower-level TensorFlow operations."
      ]
    }
  ]
}